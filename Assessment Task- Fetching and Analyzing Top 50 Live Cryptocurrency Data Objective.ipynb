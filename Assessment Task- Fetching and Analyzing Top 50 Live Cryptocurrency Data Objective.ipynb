{
 "cells": [
  {
   "cell_type": "markdown",
   "id": "049364fc",
   "metadata": {},
   "source": [
    "# Assessment Task- Fetching and Analyzing Top 50 Live Cryptocurrency Data Objective\n"
   ]
  },
  {
   "cell_type": "code",
   "execution_count": 1,
   "id": "8778cc19",
   "metadata": {},
   "outputs": [],
   "source": [
    "# Importing Necessary Libraries\n",
    "\n",
    "import pandas as pd\n",
    "import requests\n",
    "import ast\n",
    "import matplotlib.pyplot as plt\n",
    "import seaborn as sns\n",
    "import warnings\n",
    "warnings.filterwarnings(\"ignore\")\n",
    "from sklearn.ensemble import RandomForestRegressor\n",
    "from sklearn.preprocessing import MinMaxScaler\n",
    "from sklearn.impute import SimpleImputer\n",
    "from sklearn.preprocessing import StandardScaler\n",
    "from sklearn.cluster import KMeans\n",
    "import openpyxl\n",
    "import time\n",
    "from openpyxl import Workbook\n",
    "import os"
   ]
  },
  {
   "cell_type": "markdown",
   "id": "0910e2f6",
   "metadata": {},
   "source": [
    "## Objective:\n",
    "The goal of this assessment is to fetch live cryptocurrency data for the top 50 cryptocurrencies, analyze it, and present the data in a live-updating Excel sheet. The Excel sheet should continuously update with the latest cryptocurrency prices."
   ]
  },
  {
   "cell_type": "markdown",
   "id": "63cb1d19",
   "metadata": {},
   "source": [
    "##### To complete the task, follow these step-by-step"
   ]
  },
  {
   "cell_type": "markdown",
   "id": "26289333",
   "metadata": {},
   "source": [
    "## Step 1: Fetch Live Data"
   ]
  },
  {
   "cell_type": "code",
   "execution_count": 2,
   "id": "63d7fd0b",
   "metadata": {},
   "outputs": [
    {
     "data": {
      "text/html": [
       "<div>\n",
       "<style scoped>\n",
       "    .dataframe tbody tr th:only-of-type {\n",
       "        vertical-align: middle;\n",
       "    }\n",
       "\n",
       "    .dataframe tbody tr th {\n",
       "        vertical-align: top;\n",
       "    }\n",
       "\n",
       "    .dataframe thead th {\n",
       "        text-align: right;\n",
       "    }\n",
       "</style>\n",
       "<table border=\"1\" class=\"dataframe\">\n",
       "  <thead>\n",
       "    <tr style=\"text-align: right;\">\n",
       "      <th></th>\n",
       "      <th>Cryptocurrency Name</th>\n",
       "      <th>Symbol</th>\n",
       "      <th>Current Price (in USD)</th>\n",
       "      <th>Market Capitalization</th>\n",
       "      <th>24-hour Trading Volume</th>\n",
       "      <th>Price Change (24-hour, percentage)</th>\n",
       "    </tr>\n",
       "  </thead>\n",
       "  <tbody>\n",
       "    <tr>\n",
       "      <th>0</th>\n",
       "      <td>Bitcoin</td>\n",
       "      <td>btc</td>\n",
       "      <td>80880.000</td>\n",
       "      <td>1599251956150</td>\n",
       "      <td>74844885036</td>\n",
       "      <td>5.92762</td>\n",
       "    </tr>\n",
       "    <tr>\n",
       "      <th>1</th>\n",
       "      <td>Ethereum</td>\n",
       "      <td>eth</td>\n",
       "      <td>3226.380</td>\n",
       "      <td>388164655449</td>\n",
       "      <td>42569896639</td>\n",
       "      <td>6.02656</td>\n",
       "    </tr>\n",
       "    <tr>\n",
       "      <th>2</th>\n",
       "      <td>Tether</td>\n",
       "      <td>usdt</td>\n",
       "      <td>1.001</td>\n",
       "      <td>123243625861</td>\n",
       "      <td>87165692694</td>\n",
       "      <td>0.04980</td>\n",
       "    </tr>\n",
       "    <tr>\n",
       "      <th>3</th>\n",
       "      <td>Solana</td>\n",
       "      <td>sol</td>\n",
       "      <td>213.650</td>\n",
       "      <td>100730014502</td>\n",
       "      <td>8497238867</td>\n",
       "      <td>7.67036</td>\n",
       "    </tr>\n",
       "    <tr>\n",
       "      <th>4</th>\n",
       "      <td>BNB</td>\n",
       "      <td>bnb</td>\n",
       "      <td>637.120</td>\n",
       "      <td>93027707330</td>\n",
       "      <td>2115328150</td>\n",
       "      <td>3.00526</td>\n",
       "    </tr>\n",
       "  </tbody>\n",
       "</table>\n",
       "</div>"
      ],
      "text/plain": [
       "  Cryptocurrency Name Symbol  Current Price (in USD)  Market Capitalization  \\\n",
       "0             Bitcoin    btc               80880.000          1599251956150   \n",
       "1            Ethereum    eth                3226.380           388164655449   \n",
       "2              Tether   usdt                   1.001           123243625861   \n",
       "3              Solana    sol                 213.650           100730014502   \n",
       "4                 BNB    bnb                 637.120            93027707330   \n",
       "\n",
       "   24-hour Trading Volume  Price Change (24-hour, percentage)  \n",
       "0             74844885036                             5.92762  \n",
       "1             42569896639                             6.02656  \n",
       "2             87165692694                             0.04980  \n",
       "3              8497238867                             7.67036  \n",
       "4              2115328150                             3.00526  "
      ]
     },
     "execution_count": 2,
     "metadata": {},
     "output_type": "execute_result"
    }
   ],
   "source": [
    "# CoinGecko API endpoint for fetching top 50 cryptocurrencies\n",
    "url = \"https://api.coingecko.com/api/v3/coins/markets?vs_currency=usd&order=market_cap_desc&per_page=50&page=1&sparkline=false\"\n",
    "\n",
    "# Fetch data from CoinGecko API\n",
    "response = requests.get(url)\n",
    "data = response.json()\n",
    "\n",
    "# Extract required fields from the fetched data\n",
    "cryptocurrencies = []\n",
    "for crypto in data:\n",
    "    cryptocurrency = {\n",
    "        'Cryptocurrency Name': crypto['name'],\n",
    "        'Symbol': crypto['symbol'],\n",
    "        'Current Price (in USD)': crypto['current_price'],\n",
    "        'Market Capitalization': crypto['market_cap'],\n",
    "        '24-hour Trading Volume': crypto['total_volume'],\n",
    "        'Price Change (24-hour, percentage)': crypto['price_change_percentage_24h']\n",
    "    }\n",
    "    cryptocurrencies.append(cryptocurrency)\n",
    "\n",
    "# Convert the list of dictionaries to a pandas DataFrame\n",
    "df = pd.DataFrame(cryptocurrencies)\n",
    "\n",
    "# Display the DataFrame\n",
    "df.head()"
   ]
  },
  {
   "cell_type": "markdown",
   "id": "28be65bc",
   "metadata": {},
   "source": [
    "**Output Interpretation:**\n",
    "The output shows the first five rows of the DataFrame with the following columns:\n",
    "- **Cryptocurrency Name:** The name of the cryptocurrency.\n",
    "- **Symbol:** The symbol of the cryptocurrency.\n",
    "- **Current Price (in USD):** The current price of the cryptocurrency in USD.\n",
    "- **Market Capitalization:** The market capitalization of the cryptocurrency.\n",
    "- **24-hour Trading Volume:** The trading volume of the cryptocurrency over the past 24 hours.\n",
    "- **Price Change (24-hour, percentage):** The percentage change in price over the past 24 hours.\n",
    "\n",
    "**For example, the first row shows:**\n",
    "- **Cryptocurrency Name:** Bitcoin\n",
    "- **Symbol:** BTC\n",
    "- **Current Price (in USD):** 79395.000\n",
    "- **Market Capitalization:** 1570691921732\n",
    "- **24-hour Trading Volume:** 59811358001\n",
    "- **Price Change (24-hour, percentage):** 3.94762"
   ]
  },
  {
   "cell_type": "code",
   "execution_count": 3,
   "id": "04bad68f",
   "metadata": {},
   "outputs": [
    {
     "name": "stdout",
     "output_type": "stream",
     "text": [
      "Data Shape: (50, 6)\n",
      "\n",
      "Data Info:\n",
      "<class 'pandas.core.frame.DataFrame'>\n",
      "RangeIndex: 50 entries, 0 to 49\n",
      "Data columns (total 6 columns):\n",
      " #   Column                              Non-Null Count  Dtype  \n",
      "---  ------                              --------------  -----  \n",
      " 0   Cryptocurrency Name                 50 non-null     object \n",
      " 1   Symbol                              50 non-null     object \n",
      " 2   Current Price (in USD)              50 non-null     float64\n",
      " 3   Market Capitalization               50 non-null     int64  \n",
      " 4   24-hour Trading Volume              50 non-null     int64  \n",
      " 5   Price Change (24-hour, percentage)  50 non-null     float64\n",
      "dtypes: float64(2), int64(2), object(2)\n",
      "memory usage: 2.5+ KB\n",
      "None\n"
     ]
    }
   ],
   "source": [
    "# Data Overview\n",
    "print(\"Data Shape:\", df.shape)\n",
    "print(\"\\nData Info:\")\n",
    "print(df.info())"
   ]
  },
  {
   "cell_type": "code",
   "execution_count": 4,
   "id": "00203711",
   "metadata": {},
   "outputs": [
    {
     "name": "stdout",
     "output_type": "stream",
     "text": [
      "\n",
      "Missing Values:\n",
      "Cryptocurrency Name                   0\n",
      "Symbol                                0\n",
      "Current Price (in USD)                0\n",
      "Market Capitalization                 0\n",
      "24-hour Trading Volume                0\n",
      "Price Change (24-hour, percentage)    0\n",
      "dtype: int64\n"
     ]
    },
    {
     "data": {
      "image/png": "[encoded data removed]",
      "text/plain": [
       "<Figure size 1000x400 with 1 Axes>"
      ]
     },
     "metadata": {},
     "output_type": "display_data"
    }
   ],
   "source": [
    "# Data Cleaning\n",
    "# Check for missing values\n",
    "print(\"\\nMissing Values:\")\n",
    "print(df.isnull().sum())\n",
    "\n",
    "# Visualize missing data\n",
    "df.isna().sum().plot(kind='bar',figsize=(10, 4))\n",
    "plt.tick_params(axis='x', rotation=45)\n",
    "plt.show()"
   ]
  },
  {
   "cell_type": "code",
   "execution_count": 5,
   "id": "55a010d5",
   "metadata": {},
   "outputs": [
    {
     "name": "stdout",
     "output_type": "stream",
     "text": [
      "\n",
      "Number of Duplicate Rows: 0\n"
     ]
    }
   ],
   "source": [
    "# Check for duplicate rows\n",
    "duplicates = df.duplicated().sum()\n",
    "print(\"\\nNumber of Duplicate Rows:\", duplicates)\n",
    "if duplicates > 0:\n",
    "    df.drop_duplicates(inplace=True)\n",
    "    print(\"Duplicates removed.\")"
   ]
  },
  {
   "cell_type": "markdown",
   "id": "791fa591",
   "metadata": {},
   "source": [
    "## Step 2: Data Analysis\n"
   ]
  },
  {
   "cell_type": "markdown",
   "id": "339d09d6",
   "metadata": {},
   "source": [
    "###  Identifying the top 5 cryptocurrencies by market cap"
   ]
  },
  {
   "cell_type": "code",
   "execution_count": 6,
   "id": "7a44f380",
   "metadata": {},
   "outputs": [
    {
     "data": {
      "text/html": [
       "<div>\n",
       "<style scoped>\n",
       "    .dataframe tbody tr th:only-of-type {\n",
       "        vertical-align: middle;\n",
       "    }\n",
       "\n",
       "    .dataframe tbody tr th {\n",
       "        vertical-align: top;\n",
       "    }\n",
       "\n",
       "    .dataframe thead th {\n",
       "        text-align: right;\n",
       "    }\n",
       "</style>\n",
       "<table border=\"1\" class=\"dataframe\">\n",
       "  <thead>\n",
       "    <tr style=\"text-align: right;\">\n",
       "      <th></th>\n",
       "      <th>Cryptocurrency Name</th>\n",
       "      <th>Symbol</th>\n",
       "      <th>Current Price (in USD)</th>\n",
       "      <th>Market Capitalization</th>\n",
       "      <th>24-hour Trading Volume</th>\n",
       "      <th>Price Change (24-hour, percentage)</th>\n",
       "    </tr>\n",
       "  </thead>\n",
       "  <tbody>\n",
       "    <tr>\n",
       "      <th>0</th>\n",
       "      <td>Bitcoin</td>\n",
       "      <td>btc</td>\n",
       "      <td>80880.000</td>\n",
       "      <td>1599251956150</td>\n",
       "      <td>74844885036</td>\n",
       "      <td>5.92762</td>\n",
       "    </tr>\n",
       "    <tr>\n",
       "      <th>1</th>\n",
       "      <td>Ethereum</td>\n",
       "      <td>eth</td>\n",
       "      <td>3226.380</td>\n",
       "      <td>388164655449</td>\n",
       "      <td>42569896639</td>\n",
       "      <td>6.02656</td>\n",
       "    </tr>\n",
       "    <tr>\n",
       "      <th>2</th>\n",
       "      <td>Tether</td>\n",
       "      <td>usdt</td>\n",
       "      <td>1.001</td>\n",
       "      <td>123243625861</td>\n",
       "      <td>87165692694</td>\n",
       "      <td>0.04980</td>\n",
       "    </tr>\n",
       "    <tr>\n",
       "      <th>3</th>\n",
       "      <td>Solana</td>\n",
       "      <td>sol</td>\n",
       "      <td>213.650</td>\n",
       "      <td>100730014502</td>\n",
       "      <td>8497238867</td>\n",
       "      <td>7.67036</td>\n",
       "    </tr>\n",
       "    <tr>\n",
       "      <th>4</th>\n",
       "      <td>BNB</td>\n",
       "      <td>bnb</td>\n",
       "      <td>637.120</td>\n",
       "      <td>93027707330</td>\n",
       "      <td>2115328150</td>\n",
       "      <td>3.00526</td>\n",
       "    </tr>\n",
       "  </tbody>\n",
       "</table>\n",
       "</div>"
      ],
      "text/plain": [
       "  Cryptocurrency Name Symbol  Current Price (in USD)  Market Capitalization  \\\n",
       "0             Bitcoin    btc               80880.000          1599251956150   \n",
       "1            Ethereum    eth                3226.380           388164655449   \n",
       "2              Tether   usdt                   1.001           123243625861   \n",
       "3              Solana    sol                 213.650           100730014502   \n",
       "4                 BNB    bnb                 637.120            93027707330   \n",
       "\n",
       "   24-hour Trading Volume  Price Change (24-hour, percentage)  \n",
       "0             74844885036                             5.92762  \n",
       "1             42569896639                             6.02656  \n",
       "2             87165692694                             0.04980  \n",
       "3              8497238867                             7.67036  \n",
       "4              2115328150                             3.00526  "
      ]
     },
     "execution_count": 6,
     "metadata": {},
     "output_type": "execute_result"
    }
   ],
   "source": [
    "# Sort by Market Capitalization in descending order\n",
    "df_sorted = df.sort_values(by='Market Capitalization', ascending=False)\n",
    "\n",
    "# Select the top 5 cryptocurrencies\n",
    "top_5 = df_sorted.head(5)\n",
    "top_5"
   ]
  },
  {
   "cell_type": "markdown",
   "id": "e22bb9cb",
   "metadata": {},
   "source": [
    "- **Market Capitalization:** Market capitalization is a key indicator of a cryptocurrency's size and dominance in the market. It is calculated by multiplying the current price by the total supply of the cryptocurrency.\n",
    "\n",
    "- **Trading Volume:** High trading volume indicates strong market activity and liquidity, which is important for investors looking to buy or sell large amounts of a cryptocurrency.\n",
    "\n",
    "- **Price Change:** The 24-hour price change percentage provides insight into the short-term market trend of a cryptocurrency. Positive values indicate a bullish trend, while negative values indicate a bearish trend."
   ]
  },
  {
   "cell_type": "code",
   "execution_count": 7,
   "id": "18ba286f",
   "metadata": {},
   "outputs": [
    {
     "data": {
      "image/png": "[encoded data removed]",
      "text/plain": [
       "<Figure size 1000x600 with 1 Axes>"
      ]
     },
     "metadata": {},
     "output_type": "display_data"
    }
   ],
   "source": [
    "# Plot top 5 market capitalization\n",
    "plt.figure(figsize=(10, 6))\n",
    "sns.barplot(x='Cryptocurrency Name', y='Market Capitalization', data=top_5)\n",
    "plt.xlabel('Cryptocurrency')\n",
    "plt.ylabel('Market Capitalization (USD)')\n",
    "plt.title('Top 5 Cryptocurrencies by Market Capitalization')\n",
    "plt.tight_layout()\n",
    "plt.show()"
   ]
  },
  {
   "cell_type": "markdown",
   "id": "5afac5bc",
   "metadata": {},
   "source": [
    "**This bar chart shows the top 5 cryptocurrencies by market capitalization.**\n",
    "\n",
    "- Bitcoin has the largest market capitalization at over 1.5 trillion USD.\n",
    "- Ethereum has the second largest market capitalization, around 400 billion USD.\n",
    "- The remaining top 5 cryptocurrencies have market capitalizations of around 100 billion USD or less."
   ]
  },
  {
   "cell_type": "code",
   "execution_count": 8,
   "id": "07a1800e",
   "metadata": {},
   "outputs": [
    {
     "data": {
      "image/png": "[encoded data removed]",
      "text/plain": [
       "<Figure size 1200x800 with 1 Axes>"
      ]
     },
     "metadata": {},
     "output_type": "display_data"
    }
   ],
   "source": [
    "# Get top 10 cryptocurrencies by Price Change\n",
    "top_10_price_change = df.nlargest(10, 'Price Change (24-hour, percentage)')\n",
    "\n",
    "# Create a trend graph for price changes\n",
    "plt.figure(figsize=(12, 8))\n",
    "plt.plot(top_10_price_change['Cryptocurrency Name'], top_10_price_change['Price Change (24-hour, percentage)'], marker='o')\n",
    "plt.title('24-hour Price Change Percentage for Top 10 Cryptocurrencies')\n",
    "plt.xlabel('Cryptocurrency Name')\n",
    "plt.ylabel('Price Change (%)')\n",
    "plt.xticks(rotation=45, ha='right')\n",
    "plt.tight_layout()\n",
    "plt.show()"
   ]
  },
  {
   "cell_type": "markdown",
   "id": "75aba88e",
   "metadata": {},
   "source": [
    "**This line graph shows the 24-hour price change percentage for the top 10 cryptocurrencies. The y-axis represents the price change percentage, while the x-axis lists the names of the cryptocurrencies.**\n",
    "\n",
    "- Cardano had the highest price change percentage at approximately 40%, followed by Sui with a price change of approximately 32%.\n",
    "- The price change percentage decreased significantly for the remaining cryptocurrencies, with Kaspa, Shiba Inu, and Dogecoin all having price changes around 22%.\n",
    "- Polkadot, Injective, Bitcoin Cash, Cronos, and Aptos showed a gradual decrease in price change percentage, with Aptos having the lowest price change percentage at approximately 14%."
   ]
  },
  {
   "cell_type": "markdown",
   "id": "4bf87cbd",
   "metadata": {},
   "source": [
    "### Calculating the average price of the top 50 cryptocurrencies"
   ]
  },
  {
   "cell_type": "code",
   "execution_count": 9,
   "id": "1d3904cd",
   "metadata": {},
   "outputs": [
    {
     "name": "stdout",
     "output_type": "stream",
     "text": [
      "The average price of the top 50 cryptocurrencies is: $3620.88\n"
     ]
    }
   ],
   "source": [
    "# Calculate the average price of the top 50 cryptocurrencies\n",
    "average_price = df['Current Price (in USD)'].mean()\n",
    "\n",
    "# Display the average price\n",
    "print(f\"The average price of the top 50 cryptocurrencies is: ${average_price:.2f}\")"
   ]
  },
  {
   "cell_type": "markdown",
   "id": "37188949",
   "metadata": {},
   "source": [
    "The average price of $3,558.99 for the top 50 cryptocurrencies serves as a key benchmark for market performance, reflecting significant investment interest while highlighting the influence of a few high-value coins. It should be considered alongside other metrics to provide a more nuanced understanding of market dynamics."
   ]
  },
  {
   "cell_type": "code",
   "execution_count": 10,
   "id": "fbe487c1",
   "metadata": {},
   "outputs": [
    {
     "data": {
      "text/html": [
       "<div>\n",
       "<style scoped>\n",
       "    .dataframe tbody tr th:only-of-type {\n",
       "        vertical-align: middle;\n",
       "    }\n",
       "\n",
       "    .dataframe tbody tr th {\n",
       "        vertical-align: top;\n",
       "    }\n",
       "\n",
       "    .dataframe thead th {\n",
       "        text-align: right;\n",
       "    }\n",
       "</style>\n",
       "<table border=\"1\" class=\"dataframe\">\n",
       "  <thead>\n",
       "    <tr style=\"text-align: right;\">\n",
       "      <th></th>\n",
       "      <th>Current Price (in USD)</th>\n",
       "      <th>Market Capitalization</th>\n",
       "      <th>24-hour Trading Volume</th>\n",
       "      <th>Price Change (24-hour, percentage)</th>\n",
       "    </tr>\n",
       "  </thead>\n",
       "  <tbody>\n",
       "    <tr>\n",
       "      <th>count</th>\n",
       "      <td>50.000000</td>\n",
       "      <td>5.000000e+01</td>\n",
       "      <td>5.000000e+01</td>\n",
       "      <td>50.000000</td>\n",
       "    </tr>\n",
       "    <tr>\n",
       "      <th>mean</th>\n",
       "      <td>3620.877151</td>\n",
       "      <td>5.421207e+10</td>\n",
       "      <td>5.798235e+09</td>\n",
       "      <td>11.088642</td>\n",
       "    </tr>\n",
       "    <tr>\n",
       "      <th>std</th>\n",
       "      <td>15947.146081</td>\n",
       "      <td>2.304853e+11</td>\n",
       "      <td>1.683704e+10</td>\n",
       "      <td>10.113460</td>\n",
       "    </tr>\n",
       "    <tr>\n",
       "      <th>min</th>\n",
       "      <td>0.000013</td>\n",
       "      <td>2.343015e+09</td>\n",
       "      <td>5.789636e+06</td>\n",
       "      <td>-0.738780</td>\n",
       "    </tr>\n",
       "    <tr>\n",
       "      <th>25%</th>\n",
       "      <td>0.994626</td>\n",
       "      <td>3.247546e+09</td>\n",
       "      <td>2.474131e+08</td>\n",
       "      <td>4.802243</td>\n",
       "    </tr>\n",
       "    <tr>\n",
       "      <th>50%</th>\n",
       "      <td>5.440000</td>\n",
       "      <td>5.797866e+09</td>\n",
       "      <td>7.120246e+08</td>\n",
       "      <td>9.207000</td>\n",
       "    </tr>\n",
       "    <tr>\n",
       "      <th>75%</th>\n",
       "      <td>142.910000</td>\n",
       "      <td>1.391789e+10</td>\n",
       "      <td>2.019494e+09</td>\n",
       "      <td>14.050517</td>\n",
       "    </tr>\n",
       "    <tr>\n",
       "      <th>max</th>\n",
       "      <td>80880.000000</td>\n",
       "      <td>1.599252e+12</td>\n",
       "      <td>8.716569e+10</td>\n",
       "      <td>42.239900</td>\n",
       "    </tr>\n",
       "  </tbody>\n",
       "</table>\n",
       "</div>"
      ],
      "text/plain": [
       "       Current Price (in USD)  Market Capitalization  24-hour Trading Volume  \\\n",
       "count               50.000000           5.000000e+01            5.000000e+01   \n",
       "mean              3620.877151           5.421207e+10            5.798235e+09   \n",
       "std              15947.146081           2.304853e+11            1.683704e+10   \n",
       "min                  0.000013           2.343015e+09            5.789636e+06   \n",
       "25%                  0.994626           3.247546e+09            2.474131e+08   \n",
       "50%                  5.440000           5.797866e+09            7.120246e+08   \n",
       "75%                142.910000           1.391789e+10            2.019494e+09   \n",
       "max              80880.000000           1.599252e+12            8.716569e+10   \n",
       "\n",
       "       Price Change (24-hour, percentage)  \n",
       "count                           50.000000  \n",
       "mean                            11.088642  \n",
       "std                             10.113460  \n",
       "min                             -0.738780  \n",
       "25%                              4.802243  \n",
       "50%                              9.207000  \n",
       "75%                             14.050517  \n",
       "max                             42.239900  "
      ]
     },
     "execution_count": 10,
     "metadata": {},
     "output_type": "execute_result"
    }
   ],
   "source": [
    "# Summary statistics \n",
    "\n",
    "df.describe()"
   ]
  },
  {
   "cell_type": "markdown",
   "id": "68c15700",
   "metadata": {},
   "source": [
    "### Analyzing the highest and lowest 24-hour percentage price change among the top 50"
   ]
  },
  {
   "cell_type": "code",
   "execution_count": 11,
   "id": "cdcc7066",
   "metadata": {},
   "outputs": [
    {
     "name": "stdout",
     "output_type": "stream",
     "text": [
      "Highest 24-hour percentage price change:\n",
      "Cryptocurrency Name                   Shiba Inu\n",
      "Price Change (24-hour, percentage)      42.2399\n",
      "Name: 10, dtype: object\n",
      "\n",
      "Lowest 24-hour percentage price change:\n",
      "Cryptocurrency Name                      USDS\n",
      "Price Change (24-hour, percentage)   -0.73878\n",
      "Name: 27, dtype: object\n"
     ]
    }
   ],
   "source": [
    "# Calculate the highest and lowest 24-hour price change\n",
    "highest_change = df.loc[df['Price Change (24-hour, percentage)'].idxmax()]\n",
    "lowest_change = df.loc[df['Price Change (24-hour, percentage)'].idxmin()]\n",
    "\n",
    "print(\"Highest 24-hour percentage price change:\")\n",
    "print(highest_change[['Cryptocurrency Name', 'Price Change (24-hour, percentage)']])\n",
    "\n",
    "print(\"\\nLowest 24-hour percentage price change:\")\n",
    "print(lowest_change[['Cryptocurrency Name', 'Price Change (24-hour, percentage)']])"
   ]
  },
  {
   "cell_type": "markdown",
   "id": "61c3f0ba",
   "metadata": {},
   "source": [
    "**Highest and Lowest 24-Hour Percentage Price Change**\n",
    "\n",
    "**Highest Price Change:**\n",
    "- **Cryptocurrency: Cardano** (+40.38%)\n",
    "- **Interpretation: This significant increase indicates strong market momentum, possibly driven by positive news or developments, attracting speculative interest but also raising concerns about sustainability.\n",
    "\n",
    "**Lowest Price Change:**\n",
    "- ****Cryptocurrency: USDS (-0.03%)**\n",
    "- **Interpretation: This minimal decrease suggests stability, indicating that USDS may function as a stablecoin with consistent demand, appealing to risk-averse investors.\n",
    "\n",
    "**Market Dynamics:** The contrast between Cardano's volatility and USDS's stability highlights the diverse nature of the cryptocurrency market, where investors can choose between high-risk opportunities and safer assets."
   ]
  },
  {
   "cell_type": "markdown",
   "id": "25c85885",
   "metadata": {},
   "source": [
    "### Depth of Analysis: Potential Implications for Investors"
   ]
  },
  {
   "cell_type": "code",
   "execution_count": 12,
   "id": "34f1f11f",
   "metadata": {},
   "outputs": [
    {
     "name": "stdout",
     "output_type": "stream",
     "text": [
      "Analysis for Investors:\n",
      "Average Market Capitalization: $54,212,071,360.38\n",
      "Average 24-hour Trading Volume: $5,798,234,636.50\n",
      "\n",
      "Cryptocurrencies with High Market Capitalization:\n",
      "  Cryptocurrency Name  Market Capitalization\n",
      "0             Bitcoin          1599251956150\n",
      "1            Ethereum           388164655449\n",
      "2              Tether           123243625861\n",
      "3              Solana           100730014502\n",
      "4                 BNB            93027707330\n",
      "\n",
      "Cryptocurrencies with High 24-hour Trading Volume:\n",
      "   Cryptocurrency Name  24-hour Trading Volume\n",
      "0              Bitcoin             74844885036\n",
      "1             Ethereum             42569896639\n",
      "2               Tether             87165692694\n",
      "3               Solana              8497238867\n",
      "5             Dogecoin             12311559842\n",
      "6                 USDC             10793522491\n",
      "10           Shiba Inu              7080337985\n",
      "49   First Digital USD              8127865727\n",
      "\n",
      "Cryptocurrencies with Significant Price Changes:\n",
      "                      Cryptocurrency Name  Price Change (24-hour, percentage)\n",
      "0                                 Bitcoin                             5.92762\n",
      "1                                Ethereum                             6.02656\n",
      "3                                  Solana                             7.67036\n",
      "5                                Dogecoin                            32.19012\n",
      "7                                     XRP                            10.97890\n",
      "8                       Lido Staked Ether                             6.09385\n",
      "9                                 Cardano                            42.17968\n",
      "10                              Shiba Inu                            42.23990\n",
      "12                          Wrapped stETH                             6.20724\n",
      "13                                Toncoin                             5.05632\n",
      "14                              Avalanche                            14.14175\n",
      "15                        Wrapped Bitcoin                             5.97207\n",
      "16                                   WETH                             5.95201\n",
      "17                              Chainlink                             8.83110\n",
      "18                           Bitcoin Cash                            18.31157\n",
      "19                                    Sui                            26.53924\n",
      "20                               Polkadot                            23.56825\n",
      "21                              LEO Token                            10.61690\n",
      "22                          NEAR Protocol                            12.84086\n",
      "23                           Wrapped eETH                             6.13962\n",
      "24                               Litecoin                             7.88185\n",
      "25                                  Aptos                            12.21398\n",
      "28                                   Pepe                            18.28502\n",
      "29                      Internet Computer                            13.77682\n",
      "30                              Bittensor                            16.19487\n",
      "31                                  Kaspa                            30.28476\n",
      "32  Artificial Superintelligence Alliance                            10.28395\n",
      "33                       Ethereum Classic                            16.01186\n",
      "34                                 Cronos                            20.38244\n",
      "35                                Stellar                            11.34922\n",
      "37                         POL (ex-MATIC)                            11.06289\n",
      "42                                 Stacks                            12.53139\n",
      "43                              dogwifhat                            13.63544\n",
      "45                                    OKB                             6.33977\n",
      "46                               Filecoin                            13.70394\n",
      "47                               Arbitrum                             9.58290\n",
      "48                              Injective                            16.88815\n"
     ]
    }
   ],
   "source": [
    "# Analysis for implications\n",
    "def analyze_implications(df):\n",
    "    # Calculate average market cap and trading volume\n",
    "    avg_market_cap = df['Market Capitalization'].mean()\n",
    "    avg_trading_volume = df['24-hour Trading Volume'].mean()\n",
    "    \n",
    "    # Identify cryptocurrencies with high market cap and trading volume\n",
    "    high_market_cap = df[df['Market Capitalization'] > avg_market_cap]\n",
    "    high_trading_volume = df[df['24-hour Trading Volume'] > avg_trading_volume]\n",
    "    \n",
    "    # Identify cryptocurrencies with significant price changes\n",
    "    significant_price_change = df[abs(df['Price Change (24-hour, percentage)']) > 5]\n",
    "    \n",
    "    # Print analysis\n",
    "    print(\"Analysis for Investors:\")\n",
    "    print(f\"Average Market Capitalization: ${avg_market_cap:,.2f}\")\n",
    "    print(f\"Average 24-hour Trading Volume: ${avg_trading_volume:,.2f}\")\n",
    "    print(\"\\nCryptocurrencies with High Market Capitalization:\")\n",
    "    print(high_market_cap[['Cryptocurrency Name', 'Market Capitalization']])\n",
    "    print(\"\\nCryptocurrencies with High 24-hour Trading Volume:\")\n",
    "    print(high_trading_volume[['Cryptocurrency Name', '24-hour Trading Volume']])\n",
    "    print(\"\\nCryptocurrencies with Significant Price Changes:\")\n",
    "    print(significant_price_change[['Cryptocurrency Name', 'Price Change (24-hour, percentage)']])\n",
    "\n",
    "# Run the analysis\n",
    "analyze_implications(df)"
   ]
  },
  {
   "cell_type": "markdown",
   "id": "32b3dee1",
   "metadata": {},
   "source": [
    "**Key Implications for Investors**\n",
    "- **Average Metrics:** With an average market cap of 53.18 billion and trading volume of 4.89 billion, these benchmarks help identify stable investments.\n",
    "- **High Market Cap:** Assets like Bitcoin (1.57T) and Ethereum (384.62B) are generally safer, serving as foundational investments.\n",
    "- **High Trading Volume:** Cryptocurrencies with significant volumes, such as Bitcoin (59.81B), indicate strong market interest and facilitate liquidity.\n",
    "- **Significant Price Changes:** High movers like Cardano (+40.38) and Dogecoin (+18.35) present opportunities but carry increased risk.\n",
    "- **Investment Strategy:** Diversifying between high-cap and volatile assets, while considering market timing, can optimize risk and reward."
   ]
  },
  {
   "cell_type": "markdown",
   "id": "bbd7cac9",
   "metadata": {},
   "source": [
    "## Step 3: Live-Running Excel Sheet"
   ]
  },
  {
   "cell_type": "code",
   "execution_count": 13,
   "id": "d6bf80f9",
   "metadata": {},
   "outputs": [],
   "source": [
    "# Fetch Live Data: The fetch_live_data function retrieves data from a specified API endpoint.\n",
    "def fetch_live_data():\n",
    "    response = requests.get(url)\n",
    "    data = response.json()  # Adjust if API data format differs\n",
    "    return data"
   ]
  },
  {
   "cell_type": "code",
   "execution_count": 14,
   "id": "194b5266",
   "metadata": {},
   "outputs": [],
   "source": [
    "# Create Excel with Headers: The create_excel_with_headers function initializes a new Excel file with specified headers.\n",
    "def create_excel_with_headers(excel_file_path, headers):\n",
    "    workbook = Workbook()\n",
    "    sheet = workbook.active\n",
    "    sheet.title = 'Live Data'\n",
    "    sheet.append(headers)\n",
    "    workbook.save(excel_file_path)"
   ]
  },
  {
   "cell_type": "code",
   "execution_count": 15,
   "id": "22282180",
   "metadata": {},
   "outputs": [],
   "source": [
    "# Update Excel Sheet: The update_excel_sheet function updates the existing Excel file with new data fetched from the API.\n",
    "def update_excel_sheet(data, excel_file_path):\n",
    "    # Load the workbook\n",
    "    workbook = openpyxl.load_workbook(excel_file_path)\n",
    "    sheet = workbook.active\n",
    "\n",
    "    # Clear existing data except headers (if needed)\n",
    "    for row in sheet.iter_rows(min_row=2, max_row=sheet.max_row):\n",
    "        for cell in row:\n",
    "            cell.value = None\n",
    "\n",
    "    # Add new data to the sheet\n",
    "    for entry in data:\n",
    "        for entry in data:\n",
    "            row = [\n",
    "                entry.get('name'),\n",
    "                entry.get('symbol'),\n",
    "                entry.get('current_price'),\n",
    "                entry.get('market_cap'),\n",
    "                entry.get('total_volume'),\n",
    "                entry.get('price_change_percentage_24h')\n",
    "            ]   # Customize as per API response\n",
    "            sheet.append(row)\n",
    "\n",
    "    # Save the workbook\n",
    "    workbook.save(excel_file_path)"
   ]
  },
  {
   "cell_type": "code",
   "execution_count": null,
   "id": "ba494599",
   "metadata": {},
   "outputs": [
    {
     "name": "stdout",
     "output_type": "stream",
     "text": [
      "Excel sheet updated with latest cryptocurrency data.\n"
     ]
    }
   ],
   "source": [
    "# Main Function: The main function orchestrates the entire process, checking for the existence of the Excel file, creating it if necessary, and then continuously fetching and updating the data\n",
    "def main():\n",
    "    excel_file_path = 'live_data.xlsx'  # Path to save Excel file\n",
    "    headers = [\n",
    "        'Cryptocurrency Name',\n",
    "        'Symbol',\n",
    "        'Current Price (in USD)',\n",
    "        'Market Capitalization',\n",
    "        '24-hour Trading Volume',\n",
    "        'Price Change (24-hour, percentage)'\n",
    "    ]  # Customize headers as needed\n",
    "\n",
    "     # Check if the Excel file exists, if not, create it with headers\n",
    "    try:\n",
    "        with open(excel_file_path, 'rb') as f:\n",
    "            pass\n",
    "    except FileNotFoundError:\n",
    "        create_excel_with_headers(excel_file_path, headers)\n",
    "\n",
    "    # Continuously fetch and update data every 5 minutes\n",
    "    while True:\n",
    "        try:\n",
    "            data = fetch_live_data()\n",
    "            update_excel_sheet(data, excel_file_path)\n",
    "            print(\"Excel sheet updated with latest cryptocurrency data.\")\n",
    "            time.sleep(300)  # Wait for 5 minutes before updating again\n",
    "        except Exception as e:\n",
    "            print(f\"An error occurred: {e}\")\n",
    "\n",
    "# Run the Main Function: Finally, the script executes the main function.\n",
    "if __name__ == \"__main__\":\n",
    "    main()"
   ]
  },
  {
   "cell_type": "markdown",
   "id": "1c6e6815",
   "metadata": {},
   "source": [
    "**Detailed Analysis:**\n",
    "\n",
    "**Fetch_live_data():**\n",
    "- **Purpose:** Fetch live data from the API.\n",
    "- **Action:** Sends a GET request to the API endpoint and returns the JSON response.\n",
    "\n",
    "**Create_excel_with_headers(excel_file_path, headers):**\n",
    "- **Purpose:** Create an Excel file with specified headers.\n",
    "- **Action:** Creates a workbook, adds a sheet titled 'Live Data', appends headers, and saves the workbook.\n",
    "\n",
    "**Update_excel_sheet(data, excel_file_path):**\n",
    "- **Purpose:** Update the Excel sheet with new data.\n",
    "- **Action:** Loads the workbook, clears existing data (except headers), appends new data, and saves the workbook.\n",
    "\n",
    "**Main():**\n",
    "- **Purpose:** Orchestrate the creation and updating of the Excel sheet.\n",
    "- **Action:** Checks if the Excel file exists, creates it with headers if it doesn't, and then enters a loop to fetch and update the data every 5 minutes."
   ]
  },
  {
   "cell_type": "code",
   "execution_count": null,
   "id": "44d40d00",
   "metadata": {},
   "outputs": [],
   "source": []
  }
 ],
 "metadata": {
  "kernelspec": {
   "display_name": "Python 3 (ipykernel)",
   "language": "python",
   "name": "python3"
  },
  "language_info": {
   "codemirror_mode": {
    "name": "ipython",
    "version": 3
   },
   "file_extension": ".py",
   "mimetype": "text/x-python",
   "name": "python",
   "nbconvert_exporter": "python",
   "pygments_lexer": "ipython3",
   "version": "3.11.5"
  }
 },
 "nbformat": 4,
 "nbformat_minor": 5
}
